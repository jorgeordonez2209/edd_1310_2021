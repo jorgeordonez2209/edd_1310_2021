{
  "nbformat": 4,
  "nbformat_minor": 0,
  "metadata": {
    "colab": {
      "name": "12noviembre_1310",
      "provenance": [],
      "collapsed_sections": [],
      "authorship_tag": "ABX9TyOlUiAgujqkYuR2fjv2t13Q",
      "include_colab_link": true
    },
    "kernelspec": {
      "name": "python3",
      "display_name": "Python 3"
    }
  },
  "cells": [
    {
      "cell_type": "markdown",
      "metadata": {
        "id": "view-in-github",
        "colab_type": "text"
      },
      "source": [
        "<a href=\"https://colab.research.google.com/github/jorgeordonez2209/edd_1310_2021/blob/master/12noviembre_1310.ipynb\" target=\"_parent\"><img src=\"https://colab.research.google.com/assets/colab-badge.svg\" alt=\"Open In Colab\"/></a>"
      ]
    },
    {
      "cell_type": "code",
      "metadata": {
        "id": "OP-wfoDGcdsZ",
        "outputId": "6e6a29d1-641c-4aa0-c983-cbb7608aaf32",
        "colab": {
          "base_uri": "https://localhost:8080/"
        }
      },
      "source": [
        "class Nodo:\n",
        "  def __init__(self , dato):\n",
        "    self.dato = dato\n",
        "    self.siguiente = None\n",
        "\n",
        "# Ejemplo\n",
        "a=Nodo(12)\n",
        "print(a.dato)\n",
        "print(a.siguiente)\n",
        "\n",
        "# Ejemplo 2\n",
        "a.siguiente = Nodo(20)\n",
        "\n",
        "# Ejemplo 3\n",
        "a.siguiente.siguiente=Nodo(30)\n",
        "\n",
        "# Ejemplo 4\n",
        "a.siguiente.siguiente.siguiente=Nodo(40)\n",
        "\n",
        "# Ejemplo 5\n",
        "a.siguiente.siguiente.siguiente.siguiente=Nodo(50)\n",
        "\n",
        "# Ejemplo 6 Eliminar nodo 30\n",
        "a.siguiente.siguiente=a.siguiente.siguiente.siguiente\n",
        "\n",
        "# Ejemplo 7 Cambiar dato\n",
        "a.siguiente.siguiente.dato = 45\n",
        "\n",
        "# Ejemplo 8 Insertar dato\n",
        "tmp=a.siguiente.siguiente.siguiente # respaldar nodo\n",
        "a.siguiente.siguiente.siguiente=Nodo(48) #crear nuevo nodo\n",
        "a.siguiente.siguiente.siguiente.siguiente=tmp #juntarlos\n",
        "\n",
        "# Corrido transversal\n",
        "curr_node=a\n",
        "print(curr_node.dato, \"-->\", end=\"\")\n",
        "while(curr_node.siguiente !=None):\n",
        "  curr_node=curr_node.siguiente\n",
        "  print(curr_node.dato, \"-->\", end=\"\")\n",
        "print(\"\")\n",
        "\n"
      ],
      "execution_count": 15,
      "outputs": [
        {
          "output_type": "stream",
          "text": [
            "12\n",
            "None\n",
            "12 -->20 -->45 -->48 -->50 -->\n"
          ],
          "name": "stdout"
        }
      ]
    },
    {
      "cell_type": "code",
      "metadata": {
        "id": "waAKUbfUvQwg",
        "outputId": "1d2d5b88-a5d1-411a-ce65-348a2e0af7b7",
        "colab": {
          "base_uri": "https://localhost:8080/"
        }
      },
      "source": [
        "class Nodo:\n",
        "  def __init__(self , dato, sig=None):\n",
        "    self.dato = dato\n",
        "    self.siguiente = sig\n",
        "\n",
        "# Ejemplo 1\n",
        "a= Nodo(10)\n",
        "\n",
        "# Ejemplo 2\n",
        "a=Nodo(10, Nodo(20))\n",
        "\n",
        "a = Nodo(10 , Nodo(20, Nodo(30)) )\n",
        "\n",
        "a = Nodo(10 , Nodo(20, Nodo(30,Nodo(40,Nodo(50)))) )\n",
        "\n",
        "curr_node=a\n",
        "print(curr_node.dato, \"-->\", end=\"\")\n",
        "while(curr_node.siguiente !=None):\n",
        "  curr_node=curr_node.siguiente\n",
        "  print(curr_node.dato, \"-->\", end=\"\")\n",
        "print(\"\")"
      ],
      "execution_count": 24,
      "outputs": [
        {
          "output_type": "stream",
          "text": [
            "10 -->20 -->30 -->40 -->50 -->\n"
          ],
          "name": "stdout"
        }
      ]
    }
  ]
}