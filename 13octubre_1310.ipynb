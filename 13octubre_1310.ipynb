{
  "nbformat": 4,
  "nbformat_minor": 0,
  "metadata": {
    "colab": {
      "name": "13octubre_1310.ipynb",
      "provenance": [],
      "authorship_tag": "ABX9TyMRRKP2+4VtTQZb01M9ZZtg",
      "include_colab_link": true
    },
    "kernelspec": {
      "name": "python3",
      "display_name": "Python 3"
    }
  },
  "cells": [
    {
      "cell_type": "markdown",
      "metadata": {
        "id": "view-in-github",
        "colab_type": "text"
      },
      "source": [
        "<a href=\"https://colab.research.google.com/github/jorgeordonez2209/edd_1310_2021/blob/master/13octubre_1310.ipynb\" target=\"_parent\"><img src=\"https://colab.research.google.com/assets/colab-badge.svg\" alt=\"Open In Colab\"/></a>"
      ]
    },
    {
      "cell_type": "code",
      "metadata": {
        "id": "g0WovQQktPRQ",
        "outputId": "fcbf7738-7966-4aed-c38a-d4958a4cd4ac",
        "colab": {
          "base_uri": "https://localhost:8080/",
          "height": 105
        }
      },
      "source": [
        "alumno = { \n",
        "          \"num_cta\" : 303030303 ,\n",
        "          \"carrera\" : \"ICO\",\n",
        "          \"promedio\" : 9.8,\n",
        "          \"materias\" :[\"EDD\",\"CyP\",\"Calidad\",\"Emprendimiento\"],\n",
        "          \"direccion\" : { \n",
        "                            \"calle\":\"rancho seco\",\n",
        "                            \"numero\" : 23 ,\n",
        "                            \"delegacion\" : \"Neza\",\n",
        "                            \"estado\" : {\n",
        "                                        \"id\" : 15 ,\n",
        "                                        \"nombre\" : \"Estado de Máxico\" ,\n",
        "                                        \"nombre_corto\" : \"EdoMex\"\n",
        "                                        } ,\n",
        "                            \"CP\":57170\n",
        "\n",
        "                        } \n",
        "          }\n",
        "print(alumno)\n",
        "alumno[\"carrera\"]=\"Ingenieria en computacion\"\n",
        "print(alumno)\n",
        "alumno[\"nombre_completo\"]={\"primer\":\"Jose\",\n",
        "                           \"segundo\":\"Juan\",\n",
        "                           \"materno\":\"Perez\",\n",
        "                           \"paterno\":\"Hernandez\"\n",
        "                           }\n",
        "alumno[\"semestre\"]=3\n",
        "print(alumno)\n",
        "\n",
        "\n",
        "print(f\"{alumno['nombre_completo']['primer']} {alumno['nombre_completo']['segundo']}\")\n",
        "\n"
      ],
      "execution_count": 16,
      "outputs": [
        {
          "output_type": "stream",
          "text": [
            "{'num_cta': 303030303, 'carrera': 'ICO', 'promedio': 9.8, 'materias': ['EDD', 'CyP', 'Calidad', 'Emprendimiento'], 'direccion': {'calle': 'rancho seco', 'numero': 23, 'delegacion': 'Neza', 'estado': {'id': 15, 'nombre': 'Estado de Máxico', 'nombre_corto': 'EdoMex'}, 'CP': 57170}}\n",
            "{'num_cta': 303030303, 'carrera': 'Ingenieria en computacion', 'promedio': 9.8, 'materias': ['EDD', 'CyP', 'Calidad', 'Emprendimiento'], 'direccion': {'calle': 'rancho seco', 'numero': 23, 'delegacion': 'Neza', 'estado': {'id': 15, 'nombre': 'Estado de Máxico', 'nombre_corto': 'EdoMex'}, 'CP': 57170}}\n",
            "{'num_cta': 303030303, 'carrera': 'Ingenieria en computacion', 'promedio': 9.8, 'materias': ['EDD', 'CyP', 'Calidad', 'Emprendimiento'], 'direccion': {'calle': 'rancho seco', 'numero': 23, 'delegacion': 'Neza', 'estado': {'id': 15, 'nombre': 'Estado de Máxico', 'nombre_corto': 'EdoMex'}, 'CP': 57170}, 'nombre_completo': {'primer': 'Jose', 'segundo': 'Juan', 'materno': 'Perez', 'paterno': 'Hernandez'}, 'semestre': 3}\n",
            "Jose Juan\n"
          ],
          "name": "stdout"
        }
      ]
    },
    {
      "cell_type": "code",
      "metadata": {
        "id": "qpM-k8Ghyes0",
        "outputId": "ecb06e50-c388-418c-c6f3-44575b93027c",
        "colab": {
          "base_uri": "https://localhost:8080/",
          "height": 428
        }
      },
      "source": [
        "# key() , values() e items()\n",
        "\n",
        "llaves=alumno.keys()\n",
        "print(llaves)\n",
        "for llave in llaves:\n",
        "    print(llave.upper())\n",
        "\n",
        "valores=alumno.values()\n",
        "for val in valores:\n",
        "    print(val)\n",
        "\n",
        "pares=alumno.items()\n",
        "print(pares)\n",
        "for elem in pares:\n",
        "    print(f\"el campo {elem[0]} tiene el valor {elem[1]}\")\n",
        "\n"
      ],
      "execution_count": 17,
      "outputs": [
        {
          "output_type": "stream",
          "text": [
            "dict_keys(['num_cta', 'carrera', 'promedio', 'materias', 'direccion', 'nombre_completo', 'semestre'])\n",
            "NUM_CTA\n",
            "CARRERA\n",
            "PROMEDIO\n",
            "MATERIAS\n",
            "DIRECCION\n",
            "NOMBRE_COMPLETO\n",
            "SEMESTRE\n",
            "303030303\n",
            "Ingenieria en computacion\n",
            "9.8\n",
            "['EDD', 'CyP', 'Calidad', 'Emprendimiento']\n",
            "{'calle': 'rancho seco', 'numero': 23, 'delegacion': 'Neza', 'estado': {'id': 15, 'nombre': 'Estado de Máxico', 'nombre_corto': 'EdoMex'}, 'CP': 57170}\n",
            "{'primer': 'Jose', 'segundo': 'Juan', 'materno': 'Perez', 'paterno': 'Hernandez'}\n",
            "3\n",
            "dict_items([('num_cta', 303030303), ('carrera', 'Ingenieria en computacion'), ('promedio', 9.8), ('materias', ['EDD', 'CyP', 'Calidad', 'Emprendimiento']), ('direccion', {'calle': 'rancho seco', 'numero': 23, 'delegacion': 'Neza', 'estado': {'id': 15, 'nombre': 'Estado de Máxico', 'nombre_corto': 'EdoMex'}, 'CP': 57170}), ('nombre_completo', {'primer': 'Jose', 'segundo': 'Juan', 'materno': 'Perez', 'paterno': 'Hernandez'}), ('semestre', 3)])\n",
            "el campo num_cta tiene el valor 303030303\n",
            "el campo carrera tiene el valor Ingenieria en computacion\n",
            "el campo promedio tiene el valor 9.8\n",
            "el campo materias tiene el valor ['EDD', 'CyP', 'Calidad', 'Emprendimiento']\n",
            "el campo direccion tiene el valor {'calle': 'rancho seco', 'numero': 23, 'delegacion': 'Neza', 'estado': {'id': 15, 'nombre': 'Estado de Máxico', 'nombre_corto': 'EdoMex'}, 'CP': 57170}\n",
            "el campo nombre_completo tiene el valor {'primer': 'Jose', 'segundo': 'Juan', 'materno': 'Perez', 'paterno': 'Hernandez'}\n",
            "el campo semestre tiene el valor 3\n"
          ],
          "name": "stdout"
        }
      ]
    },
    {
      "cell_type": "code",
      "metadata": {
        "id": "8hdB145A09Qf",
        "outputId": "5099f14c-c575-42be-d78e-654ce8be5411",
        "colab": {
          "base_uri": "https://localhost:8080/",
          "height": 54
        }
      },
      "source": [
        "# Concatenar diccionarios\n",
        "computadora ={\"Procesador\":\"Intel i7\",\"RAM\":\"Kingston 32GB\"}\n",
        "otros={\"monitor\":\"LG 49\\\"\",\"SSD\":\"Toshiba 1TB\"}\n",
        "computadora.update(otros)\n",
        "print(computadora)\n"
      ],
      "execution_count": 22,
      "outputs": [
        {
          "output_type": "stream",
          "text": [
            "{'Procesador': 'Intel i7', 'RAM': 'Kingston 32GB', 'monitor': 'LG 49\"', 'SSD': 'Toshiba 1TB'}\n"
          ],
          "name": "stdout"
        }
      ]
    },
    {
      "cell_type": "markdown",
      "metadata": {
        "id": "Gd0kQHUo2oU2"
      },
      "source": [
        "# funciones\n",
        "- unidades de codigo reutilizables\n",
        "- es un mecanismo de organizacion de codigo\n",
        "- una funcion toma de 0 a n parametros de entrada\n",
        "- tiene una sola salida (return) de cualquier tipo de dato\n",
        "- solo puedes hacer dos cosas:\n",
        "  - definirla\n",
        "  - llamarla\n",
        "- se definen con la palabra reservada 'def'"
      ]
    },
    {
      "cell_type": "code",
      "metadata": {
        "id": "IlPvZlAY4AgL",
        "outputId": "c106099c-baf0-4298-f6d6-53f2e3423698",
        "colab": {
          "base_uri": "https://localhost:8080/",
          "height": 153
        }
      },
      "source": [
        "def sumar(x,y):\n",
        "    resultado = x + y\n",
        "    return resultado\n",
        "\n",
        "def saludar(nombre):\n",
        "    print(f\"Hola {nombre}, ¿Cómo estas?\")\n",
        "    return None\n",
        "\n",
        "# procesar None \n",
        "def multiplicar(valor, veces):\n",
        "    if valor != None:\n",
        "        c=valor*veces\n",
        "    else:\n",
        "        c =\"Operación no valida\"\n",
        "    return c\n",
        "\n",
        "def operacion(a,b,c):\n",
        "    res = a+(b/c)\n",
        "    return res\n",
        "\n",
        "# valores por defecto\n",
        "# def comanda(primer, fuerte, postre):\n",
        "#    print(f\"De entrada pidio: {primer}\")\n",
        "#    print(f\"De plato de fuerte {fuerte}\")\n",
        "#    print(f\"Postre: {postre}\")\n",
        "\n",
        "print(sumar(10,4))\n",
        "print(sumar(5,12))\n",
        "# c = sumar(3,7)\n",
        "# print(c)\n",
        "saludar(\"Dany\")\n",
        "print(multiplicar(6,2))\n",
        "print(multiplicar(None,7))\n",
        "\n",
        "print(operacion(2,9,3))\n",
        "print(operacion(2,3,9))\n",
        "print(operacion(a=2,c=3,b=9))\n",
        "\n"
      ],
      "execution_count": 33,
      "outputs": [
        {
          "output_type": "stream",
          "text": [
            "14\n",
            "17\n",
            "Hola Dany, ¿Cómo estas?\n",
            "12\n",
            "Operación no valida\n",
            "5.0\n",
            "2.3333333333333335\n",
            "5.0\n"
          ],
          "name": "stdout"
        }
      ]
    },
    {
      "cell_type": "code",
      "metadata": {
        "id": "oboi7uWo-ulm",
        "outputId": "00d0cbca-d71f-4db2-c594-84885a68c95b",
        "colab": {
          "base_uri": "https://localhost:8080/",
          "height": 292
        }
      },
      "source": [
        "# valores por defecto\n",
        "def comanda(primer, fuerte, postre=\"galletas de animalito\"):\n",
        "    print(f\"De entrada pidio: {primer}\")\n",
        "    print(f\"De plato de fuerte {fuerte}\")\n",
        "    print(f\"Postre: {postre}\")\n",
        "\n",
        "# argumentos posicionales con tuplas *\n",
        "def comanda_2(*opciones):\n",
        "    print(opciones)\n",
        "    print(f\"De entrada pidio: {opciones[0]}\")\n",
        "    print(f\"De plato de fuerte {opciones[1]}\")\n",
        "    print(f\"Postre: {opciones[2]}\")\n",
        "    print(\"\\nIndicaciones extra:\")\n",
        "    for ind in opciones[3::]:\n",
        "        print(f\"\\t {ind}\")\n",
        "\n",
        "comanda(\"sopa aguada\",\"tortas de papa\",\"gelatina de limon\")\n",
        "comanda(\"sopa aguada\",\"tortas de papa\") #valor por defecto de postre\n",
        "comanda_2(\"sopa aguada\",\"tortas de papa\",\"gelatina de limon\",\"las tortas bien doradas\",\"traer dos limones\",\"agua con hielo\")"
      ],
      "execution_count": 43,
      "outputs": [
        {
          "output_type": "stream",
          "text": [
            "De entrada pidio: sopa aguada\n",
            "De plato de fuerte tortas de papa\n",
            "Postre: gelatina de limon\n",
            "De entrada pidio: sopa aguada\n",
            "De plato de fuerte tortas de papa\n",
            "Postre: galletas de animalito\n",
            "('sopa aguada', 'tortas de papa', 'gelatina de limon', 'las tortas bien doradas', 'traer dos limones', 'agua con hielo')\n",
            "De entrada pidio: sopa aguada\n",
            "De plato de fuerte tortas de papa\n",
            "Postre: gelatina de limon\n",
            "\n",
            "Indicaciones extra:\n",
            "\t las tortas bien doradas\n",
            "\t traer dos limones\n",
            "\t agua con hielo\n"
          ],
          "name": "stdout"
        }
      ]
    },
    {
      "cell_type": "code",
      "metadata": {
        "id": "-GRGQjwdB63_",
        "outputId": "f9c12ee8-c01c-426a-fa72-e536d5345fb4",
        "colab": {
          "base_uri": "https://localhost:8080/",
          "height": 156
        }
      },
      "source": [
        "# argumentos posicionales con diccionarios **\n",
        "def comanda_3(**opciones):\n",
        "    print(opciones) \n",
        "    for op in opciones.items():\n",
        "        print(f\"{op[0]}---> {op[1]}\")\n",
        "\n",
        "comanda_3(primer=\"sopa aguada\",fuerte=\"tortas de papa\",postre=\"gelatina de limon\",extra1=\"las tortas bien doradas\",extra2=\"traer dos limones\",extra3=\"agua con hielo\")\n"
      ],
      "execution_count": 46,
      "outputs": [
        {
          "output_type": "stream",
          "text": [
            "{'primer': 'sopa aguada', 'fuerte': 'tortas de papa', 'postre': 'gelatina de limon', 'extra1': 'las tortas bien doradas', 'extra2': 'traer dos limones', 'extra3': 'agua con hielo'}\n",
            "primer---> sopa aguada\n",
            "fuerte---> tortas de papa\n",
            "postre---> gelatina de limon\n",
            "extra1---> las tortas bien doradas\n",
            "extra2---> traer dos limones\n",
            "extra3---> agua con hielo\n"
          ],
          "name": "stdout"
        }
      ]
    }
  ]
}