{
  "nbformat": 4,
  "nbformat_minor": 0,
  "metadata": {
    "colab": {
      "name": "1octubre_1310.ipynb",
      "provenance": [],
      "authorship_tag": "ABX9TyPxVW7lk5OTaeqddfHtx/Yi",
      "include_colab_link": true
    },
    "kernelspec": {
      "name": "python3",
      "display_name": "Python 3"
    }
  },
  "cells": [
    {
      "cell_type": "markdown",
      "metadata": {
        "id": "view-in-github",
        "colab_type": "text"
      },
      "source": [
        "<a href=\"https://colab.research.google.com/github/jorgeordonez2209/edd_1310_2021/blob/master/1octubre_1310.ipynb\" target=\"_parent\"><img src=\"https://colab.research.google.com/assets/colab-badge.svg\" alt=\"Open In Colab\"/></a>"
      ]
    },
    {
      "cell_type": "markdown",
      "metadata": {
        "id": "jhFy126F7vZe"
      },
      "source": [
        "## Intro Python 3\n",
        "### Variables\n",
        "tipo dinamico\n",
        "\n",
        "`escuela = \"FES Aragon\"`\n",
        "\n"
      ]
    },
    {
      "cell_type": "code",
      "metadata": {
        "id": "f-Tlfbzg7TM7",
        "outputId": "199c033d-63af-4d8f-ce82-f2ba80492e85",
        "colab": {
          "base_uri": "https://localhost:8080/",
          "height": 187
        }
      },
      "source": [
        "escuela = \"FES Aragon\"\n",
        "print(escuela)\n",
        "print(\"------\")\n",
        "edad = 20\n",
        "estatura = 1.77\n",
        "fumador = True\n",
        "frase = \"\"\"\n",
        "Esta es \n",
        "una \n",
        "frase \n",
        "de multiples lineas\n",
        "y tambien es\n",
        "un tipo de dato\n",
        "\"\"\" \n",
        "print(frase)\n",
        "nombre = 'jose'\n",
        "nombre_completo = \"jose sosa cardenas\""
      ],
      "execution_count": 4,
      "outputs": [
        {
          "output_type": "stream",
          "text": [
            "FES Aragon\n",
            "------\n",
            "\n",
            "Esta es \n",
            "una \n",
            "frase \n",
            "de multiples lineas\n",
            "y tambien es\n",
            "un tipo de dato\n",
            "\n"
          ],
          "name": "stdout"
        }
      ]
    },
    {
      "cell_type": "markdown",
      "metadata": {
        "id": "lnH8ISX-7uHI"
      },
      "source": [
        "# Print\n",
        "con comas ,\n",
        "\n",
        "con signo mas+\n",
        "\n",
        "con format ()\n",
        "\n",
        "con el operador f\"\""
      ]
    },
    {
      "cell_type": "code",
      "metadata": {
        "id": "wnf56Tpa-BxJ",
        "outputId": "646f222e-f288-4170-eba0-9e427e60ded8",
        "colab": {
          "base_uri": "https://localhost:8080/",
          "height": 34
        }
      },
      "source": [
        "# espacio con una ,\n",
        "print(nombre, edad)"
      ],
      "execution_count": 5,
      "outputs": [
        {
          "output_type": "stream",
          "text": [
            "jose 20\n"
          ],
          "name": "stdout"
        }
      ]
    },
    {
      "cell_type": "code",
      "metadata": {
        "id": "qb9fFAlu_BOV",
        "outputId": "d09ee5e5-7386-464b-a11a-55ed9acb6376",
        "colab": {
          "base_uri": "https://localhost:8080/",
          "height": 51
        }
      },
      "source": [
        "# + concatena //+ str\n",
        "print(nombre + str(edad))\n",
        "print(nombre+nombre_completo)"
      ],
      "execution_count": 11,
      "outputs": [
        {
          "output_type": "stream",
          "text": [
            "jose20\n",
            "josejose sosa cardenas\n"
          ],
          "name": "stdout"
        }
      ]
    },
    {
      "cell_type": "code",
      "metadata": {
        "id": "MuO8vw27ANop",
        "outputId": "130e59da-e2fa-4189-b469-4e906e5e968b",
        "colab": {
          "base_uri": "https://localhost:8080/",
          "height": 51
        }
      },
      "source": [
        "# con formato ---> Su nombre es Jose y su edad es 13 años.\n",
        "# print(\"Su nombre es\",nombre,\"y su edad es de\",edad,\"años.\")\n",
        "print(\"Su nombre es {0} y su edad es de {1} años.\".format(nombre,edad))\n",
        "print(\"Su nombre es {1} y su edad es de {0} años.\".format(nombre,edad))"
      ],
      "execution_count": 16,
      "outputs": [
        {
          "output_type": "stream",
          "text": [
            "Su nombre es jose y su edad es de 20 años.\n",
            "Su nombre es 20 y su edad es de jose años.\n"
          ],
          "name": "stdout"
        }
      ]
    },
    {
      "cell_type": "code",
      "metadata": {
        "id": "S8rTu4JeBu1o",
        "outputId": "b1e8015f-a17c-4516-fefc-66ac611fd1af",
        "colab": {
          "base_uri": "https://localhost:8080/",
          "height": 34
        }
      },
      "source": [
        "# con formato con el operador f\"\"\n",
        "print(f\"Su nombre es {nombre} y su edad es de {edad} años.\")"
      ],
      "execution_count": 17,
      "outputs": [
        {
          "output_type": "stream",
          "text": [
            "Su nombre es jose y su edad es de 20 años.\n"
          ],
          "name": "stdout"
        }
      ]
    },
    {
      "cell_type": "markdown",
      "metadata": {
        "id": "11R5H2_FCYMf"
      },
      "source": [
        "# Caracter de escape\n",
        "\\n salto de linea\n",
        "\n",
        "\\t tabulador\n",
        "\n",
        "\\a beep\n",
        "\n",
        "\\\\\" imprimir comilla doble\n",
        "\n",
        "\\\\' imprimir comilla simple"
      ]
    },
    {
      "cell_type": "code",
      "metadata": {
        "id": "ljcQVfvrDXnq",
        "outputId": "e41f7e22-a4db-4014-8092-7732f975a736",
        "colab": {
          "base_uri": "https://localhost:8080/",
          "height": 51
        }
      },
      "source": [
        "\"\"\"\n",
        "Esto es\n",
        "un comentario\n",
        "de multiple linea\n",
        "\"\"\"\n",
        "print(f\"\\tMi nombre es\\n\\t\\t {nombre}\")"
      ],
      "execution_count": 22,
      "outputs": [
        {
          "output_type": "stream",
          "text": [
            "\tMi nombre es\n",
            "\t\t jose\n"
          ],
          "name": "stdout"
        }
      ]
    },
    {
      "cell_type": "markdown",
      "metadata": {
        "id": "LxQf0zT0D6Hn"
      },
      "source": [
        "# Ayuda tipos de dato en Python\n",
        "dir()help()"
      ]
    },
    {
      "cell_type": "code",
      "metadata": {
        "id": "bdfp37n_Ehpu"
      },
      "source": [
        "# str, int , float ,bool... list, dict, set\n",
        "help(str)\n"
      ],
      "execution_count": null,
      "outputs": []
    },
    {
      "cell_type": "code",
      "metadata": {
        "id": "93zU_4NTFRNN",
        "outputId": "8c4ec310-4198-41c2-dca4-c688387d639c",
        "colab": {
          "base_uri": "https://localhost:8080/",
          "height": 51
        }
      },
      "source": [
        "print(nombre_completo.capitalize())\n",
        "print(nombre_completo.upper() , end=\"----\")\n",
        "print(nombre_completo.title())"
      ],
      "execution_count": 30,
      "outputs": [
        {
          "output_type": "stream",
          "text": [
            "Jose sosa cardenas\n",
            "JOSE SOSA CARDENAS----Jose Sosa Cardenas\n"
          ],
          "name": "stdout"
        }
      ]
    },
    {
      "cell_type": "code",
      "metadata": {
        "id": "J7ZuwZ_DGBnj"
      },
      "source": [
        "help(print)"
      ],
      "execution_count": null,
      "outputs": []
    },
    {
      "cell_type": "markdown",
      "metadata": {
        "id": "4v0dIusHGq-i"
      },
      "source": [
        "# Clase String\n",
        "Es manejada como un arreglo (c o java) o lista (Python)\n",
        "\n",
        "`telefono = \"realme x50 pro\"`"
      ]
    },
    {
      "cell_type": "code",
      "metadata": {
        "id": "5tQoebf5HJeB",
        "outputId": "b245fd13-33c8-42f0-d4d7-473af4bf45c3",
        "colab": {
          "base_uri": "https://localhost:8080/",
          "height": 34
        }
      },
      "source": [
        "telefono = \"realme x50 pro\"\n",
        "print(telefono[5])"
      ],
      "execution_count": 31,
      "outputs": [
        {
          "output_type": "stream",
          "text": [
            "e\n"
          ],
          "name": "stdout"
        }
      ]
    },
    {
      "cell_type": "markdown",
      "metadata": {
        "id": "xpJ-RZTdIPdm"
      },
      "source": [
        "# Slicing (rebanado)\n",
        "[ini:stop:incremento]\n",
        "\n",
        "nota: el stop no se incluye, termina en el valor anterior al stop"
      ]
    },
    {
      "cell_type": "code",
      "metadata": {
        "id": "RZJDHWPAIdFc",
        "outputId": "2d032326-3643-447e-917f-7b858d59b904",
        "colab": {
          "base_uri": "https://localhost:8080/",
          "height": 119
        }
      },
      "source": [
        "print(telefono[7:10:1])\n",
        "# el inicio y el incremento son opcionales\n",
        "print(telefono[:10:])\n",
        "# el valor por defecto de stop es len(str)\n",
        "print(telefono[::])\n",
        "# incremento negativo\n",
        "print(telefono[::-1])\n",
        "# slacing negativo\n",
        "print(telefono[-3::1])\n",
        "ini = -3\n",
        "inc = 1\n",
        "print(telefono[ini::inc])"
      ],
      "execution_count": 37,
      "outputs": [
        {
          "output_type": "stream",
          "text": [
            "x50\n",
            "realme x50\n",
            "realme x50 pro\n",
            "orp 05x emlaer\n",
            "pro\n",
            "pro\n"
          ],
          "name": "stdout"
        }
      ]
    },
    {
      "cell_type": "markdown",
      "metadata": {
        "id": "VdpkSYw6NMaj"
      },
      "source": [
        "# Metodos de String (str)\n",
        "Existen metodos muy utles en esta clase."
      ]
    },
    {
      "cell_type": "code",
      "metadata": {
        "id": "bEfC-7-TNX9r",
        "outputId": "4585cc14-31e7-4e28-8184-ed300f2a27ae",
        "colab": {
          "base_uri": "https://localhost:8080/",
          "height": 391
        }
      },
      "source": [
        "facultad = \"    facultad de estudios superiores aragon      \\n\"\n",
        "print(facultad)\n",
        "print(facultad.count(\"a\")) #count---> cuenta numero de elementos\n",
        "print(facultad.find(\"s\")) #find----> encuentra en que lufar esta situado el elemento\n",
        "print(facultad.strip()) #strip----> quita los espacios del principio y final, y los saltos de linea\n",
        "tamaño = len(facultad) \n",
        "print(len(facultad)) #total de caracteres\n",
        "print(f\"tamaño de la cadena es {tamaño} caracteres\")\n",
        "print(facultad)\n",
        "print(facultad.split(\"u\")) #split----> cortar la cadena\n",
        "print(facultad.split(\" \"))\n",
        "print(facultad.strip().split(\" \")) \n",
        "\n",
        "print(\"----------------------------\")\n",
        "# copiar cadenas\n",
        "otra_cadena = facultad\n",
        "print(otra_cadena)\n",
        "otra_cadena = \"FES Aragon\"\n",
        "print(facultad)\n",
        "print(otra_cadena)\n",
        "\n",
        "# copiar listas\n",
        "colores = [\"rojo\",\"verde\"]\n",
        "otra = colores.copy()\n",
        "print(colores)\n",
        "print(otra)\n",
        "otra.append(\"rosa\")\n",
        "print(colores)\n",
        "print(otra)\n",
        "  \n",
        "\n"
      ],
      "execution_count": 60,
      "outputs": [
        {
          "output_type": "stream",
          "text": [
            "    facultad de estudios superiores aragon      \n",
            "\n",
            "4\n",
            "17\n",
            "facultad de estudios superiores aragon\n",
            "49\n",
            "tamaño de la cadena es 49 caracteres\n",
            "    facultad de estudios superiores aragon      \n",
            "\n",
            "['    fac', 'ltad de est', 'dios s', 'periores aragon      \\n']\n",
            "['', '', '', '', 'facultad', 'de', 'estudios', 'superiores', 'aragon', '', '', '', '', '', '\\n']\n",
            "['facultad', 'de', 'estudios', 'superiores', 'aragon']\n",
            "----------------------------\n",
            "    facultad de estudios superiores aragon      \n",
            "\n",
            "    facultad de estudios superiores aragon      \n",
            "\n",
            "FES Aragon\n",
            "['rojo', 'verde']\n",
            "['rojo', 'verde']\n",
            "['rojo', 'verde']\n",
            "['rojo', 'verde', 'rosa']\n"
          ],
          "name": "stdout"
        }
      ]
    }
  ]
}