{
  "nbformat": 4,
  "nbformat_minor": 0,
  "metadata": {
    "colab": {
      "name": "20octubre_1310.ipynb",
      "provenance": [],
      "authorship_tag": "ABX9TyMhIh4RpqN4ilwJSHEiX8Hu",
      "include_colab_link": true
    },
    "kernelspec": {
      "name": "python3",
      "display_name": "Python 3"
    }
  },
  "cells": [
    {
      "cell_type": "markdown",
      "metadata": {
        "id": "view-in-github",
        "colab_type": "text"
      },
      "source": [
        "<a href=\"https://colab.research.google.com/github/jorgeordonez2209/edd_1310_2021/blob/master/20octubre_1310.ipynb\" target=\"_parent\"><img src=\"https://colab.research.google.com/assets/colab-badge.svg\" alt=\"Open In Colab\"/></a>"
      ]
    },
    {
      "cell_type": "code",
      "metadata": {
        "id": "NKuq22QKzkpz",
        "outputId": "a717df33-898d-4d9b-c5cf-a1b58281e256",
        "colab": {
          "base_uri": "https://localhost:8080/",
          "height": 272
        }
      },
      "source": [
        "archivo= open('numeros.txt','rt')\n",
        "for linea in archivo.readlines()[:3:]:\n",
        "  for trunc in linea.split(','):\n",
        "    print(int(trunc.strip()))\n"
      ],
      "execution_count": 6,
      "outputs": [
        {
          "output_type": "stream",
          "text": [
            "23\n",
            "23\n",
            "44\n",
            "55\n",
            "5\n",
            "44\n",
            "4\n",
            "5\n",
            "7\n",
            "7\n",
            "6\n",
            "5\n",
            "4\n",
            "2\n",
            "1\n"
          ],
          "name": "stdout"
        }
      ]
    },
    {
      "cell_type": "markdown",
      "metadata": {
        "id": "IVQwse452qdw"
      },
      "source": [
        "# sintaxis del for en Python\n",
        "\n",
        "dos versiones de for\n",
        "1. range\n",
        "2. in iterador"
      ]
    },
    {
      "cell_type": "code",
      "metadata": {
        "id": "tKvSQRuK20NG",
        "outputId": "fd88f230-d2cd-43a3-9898-bd06c9de4b40",
        "colab": {
          "base_uri": "https://localhost:8080/",
          "height": 170
        }
      },
      "source": [
        "r=range(0,10,2)\n",
        "for x in r:\n",
        "  print(x)\n",
        "\n",
        "colores=['rojo','rosa','azul','amarillo']\n",
        "\n",
        "for indice in range(0,4,1): # =range(0,len(indice),1)# for(indice=0; indice<; indice++)\n",
        "  #print(colores[indice])\n",
        "  colores[indice]=colores[indice].upper()\n",
        "\n",
        "# for sobre un iterador\n",
        "\n",
        "for col in colores:\n",
        "  print(col)\n",
        "\n"
      ],
      "execution_count": 15,
      "outputs": [
        {
          "output_type": "stream",
          "text": [
            "0\n",
            "2\n",
            "4\n",
            "6\n",
            "8\n",
            "ROJO\n",
            "ROSA\n",
            "AZUL\n",
            "AMARILLO\n"
          ],
          "name": "stdout"
        }
      ]
    },
    {
      "cell_type": "markdown",
      "metadata": {
        "id": "cIeQtwho8HG4"
      },
      "source": [
        "# generadores\n",
        "\n",
        "[ valor for x in range() ]"
      ]
    },
    {
      "cell_type": "code",
      "metadata": {
        "id": "PxU5rQ7S8Vn2",
        "outputId": "f0c89951-eadc-4e1e-9478-e7dd1b0500c6",
        "colab": {
          "base_uri": "https://localhost:8080/",
          "height": 51
        }
      },
      "source": [
        "lista=[ 0 for x in range(10)]\n",
        "print(lista)\n",
        "# ren=3\n",
        "# col=3\n",
        "# lis= [[0 for x in range(col)] for z in range(ren)]\n",
        "lis= [[0 for x in range(3)] for z in range(3)]\n",
        "print(lis)"
      ],
      "execution_count": 19,
      "outputs": [
        {
          "output_type": "stream",
          "text": [
            "[0, 0, 0, 0, 0, 0, 0, 0, 0, 0]\n",
            "[[0, 0, 0], [0, 0, 0], [0, 0, 0]]\n"
          ],
          "name": "stdout"
        }
      ]
    },
    {
      "cell_type": "markdown",
      "metadata": {
        "id": "Z6KyquV8_JOm"
      },
      "source": [
        "# POO en Python\n",
        "- clase\n",
        "- creacion de objetos\n",
        "- constructor\n",
        "- encapsulamiento\n",
        "- metodos\n",
        "- atributos\n",
        "- herencia\n"
      ]
    },
    {
      "cell_type": "code",
      "metadata": {
        "id": "2oZNMGaW_IVY",
        "outputId": "59bd0251-5f57-4ed8-8aaa-db9358b1d9b4",
        "colab": {
          "base_uri": "https://localhost:8080/",
          "height": 34
        }
      },
      "source": [
        "class Computadora: \n",
        "  def __init__(self, m, p):\n",
        "    self.__marca=m\n",
        "    self.__procesador=p\n",
        "\n",
        "  def to_string(self):\n",
        "    return \"Marca: \" + self.__marca + \" Procesador: \" + self.__procesador\n",
        "\n",
        "mi_pc= Computadora(\"Huawei Matebook\",\"Intel i7\")\n",
        "mi_pc.__marca=\"HP\"\n",
        "print(mi_pc.to_string())\n",
        "  "
      ],
      "execution_count": 32,
      "outputs": [
        {
          "output_type": "stream",
          "text": [
            "Marca: Huawei Matebook Procesador: Intel i7\n"
          ],
          "name": "stdout"
        }
      ]
    }
  ]
}