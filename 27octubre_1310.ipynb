{
  "nbformat": 4,
  "nbformat_minor": 0,
  "metadata": {
    "colab": {
      "name": "27octubre_1310.ipynb",
      "provenance": [],
      "authorship_tag": "ABX9TyPB6btUi27+qrkkqNmkMq90",
      "include_colab_link": true
    },
    "kernelspec": {
      "name": "python3",
      "display_name": "Python 3"
    }
  },
  "cells": [
    {
      "cell_type": "markdown",
      "metadata": {
        "id": "view-in-github",
        "colab_type": "text"
      },
      "source": [
        "<a href=\"https://colab.research.google.com/github/jorgeordonez2209/edd_1310_2021/blob/master/27octubre_1310.ipynb\" target=\"_parent\"><img src=\"https://colab.research.google.com/assets/colab-badge.svg\" alt=\"Open In Colab\"/></a>"
      ]
    },
    {
      "cell_type": "code",
      "metadata": {
        "id": "8868C-ijCDtj",
        "outputId": "196a1139-553d-4d81-d82d-7680d4ae5011",
        "colab": {
          "base_uri": "https://localhost:8080/",
          "height": 68
        }
      },
      "source": [
        "class Computadora:\n",
        "    def __init__( self , m , p):\n",
        "        self.__marca = m\n",
        "        self.__procesador = p\n",
        "\n",
        "    def to_string( self ):\n",
        "        return \"Marca:\"+self.__marca+\" Procesador:\"+self.__procesador\n",
        "\n",
        "    def set_marca(self , m):\n",
        "        self.__marca = m\n",
        "\n",
        "    def get_marca(self):\n",
        "        return self.__marca\n",
        "\n",
        "    def set_procesador(self, p):\n",
        "        self.__procesador=p\n",
        "    \n",
        "    def get_procesador(self):\n",
        "        return self.__procesador\n",
        "\n",
        "    \n",
        "\n",
        "\n",
        "mi_pc = Computadora(\"Toshiba\",\"Intel i7\")\n",
        "print(mi_pc.to_string())\n",
        "mi_pc.__marca=\"HP \" # intentando cambiar el valor privado\n",
        "mi_pc.set_marca(\"HP \") # cambiado despues del encapsulamiento\n",
        "print(mi_pc.to_string())\n",
        "print(mi_pc.get_procesador())"
      ],
      "execution_count": 9,
      "outputs": [
        {
          "output_type": "stream",
          "text": [
            "Marca:Toshiba Procesador:Intel i7\n",
            "Marca:HP  Procesador:Intel i7\n",
            "Intel i7\n"
          ],
          "name": "stdout"
        }
      ]
    },
    {
      "cell_type": "markdown",
      "metadata": {
        "id": "3xVjZ2ImEMx0"
      },
      "source": [
        "# Encapsulamiento python 3\n",
        "## tradicional tipo Java\n",
        "    void setAtributo( val )\n",
        "    tipo getAtributo( )\n",
        "## estilo python 3\n",
        "UTILIZANDO DECORADORES\n",
        "- @property\n",
        "- @atributo.setter\n"
      ]
    },
    {
      "cell_type": "code",
      "metadata": {
        "id": "H6lcxUCtH121",
        "outputId": "4028e16f-4566-4ee3-f16b-8ec56798ee71",
        "colab": {
          "base_uri": "https://localhost:8080/",
          "height": 102
        }
      },
      "source": [
        "# estilo python 3\n",
        "class Computadora:\n",
        "    def __init__(self , m , p):\n",
        "        self.marca=m # NO se esta declarando, se manda llamar el decorador @property\n",
        "        self.procesador=p\n",
        "    \n",
        "    @property # se declara como atributo privado y funciona como metodo get\n",
        "    def marca(self):\n",
        "        return self.__marca\n",
        "    @marca.setter\n",
        "    def marca(self, m):\n",
        "        print(\"En el metodo set de marca\")\n",
        "        self.__marca=m\n",
        "    \n",
        "    @property\n",
        "    def procesador(self):\n",
        "        return self.__procesador\n",
        "    @procesador.setter\n",
        "    def procesador(self, p):\n",
        "        print(\"En el metodo set de procesador\")\n",
        "        self.__procesador=p\n",
        "\n",
        "    def to_string(self):\n",
        "        return \"Marca: \" + self.marca + \"  Procesador: \" + self.procesador\n",
        "\n",
        "mi_pc2=Computadora(\"Redmi Book\",\"Intel i9\")\n",
        "print(mi_pc2.to_string())\n",
        "mi_pc2.marca=\"Lenovo\"\n",
        "print(mi_pc2.to_string())\n",
        "\n",
        "    \n"
      ],
      "execution_count": 14,
      "outputs": [
        {
          "output_type": "stream",
          "text": [
            "En el metodo set de marca\n",
            "En el metodo set de procesador\n",
            "Marca: Redmi Book  Procesador: Intel i9\n",
            "En el metodo set de marca\n",
            "Marca: Lenovo  Procesador: Intel i9\n"
          ],
          "name": "stdout"
        }
      ]
    },
    {
      "cell_type": "code",
      "metadata": {
        "id": "l9GxpFkiQh_m",
        "outputId": "7259672c-f7bb-4cb4-b2c8-9c114c02d084",
        "colab": {
          "base_uri": "https://localhost:8080/",
          "height": 85
        }
      },
      "source": [
        "# herencia, pasando la clase base a la declaracion\n",
        "class ServidorEmpresarial(Computadora):\n",
        "  def __init__(self):\n",
        "    print(\"Holaaaa\")\n",
        "\n",
        "server=ServidorEmpresarial()\n",
        "server.marca=\"Sun Micro Systems\"\n",
        "server.procesador=\"Intel i9\"\n",
        "print(server.to_string())"
      ],
      "execution_count": 17,
      "outputs": [
        {
          "output_type": "stream",
          "text": [
            "Holaaaa\n",
            "En el metodo set de marca\n",
            "En el metodo set de procesador\n",
            "Marca: Sun Micro Systems  Procesador: Intel i9\n"
          ],
          "name": "stdout"
        }
      ]
    }
  ]
}