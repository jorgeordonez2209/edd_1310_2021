{
  "nbformat": 4,
  "nbformat_minor": 0,
  "metadata": {
    "colab": {
      "name": "Untitled0.ipynb",
      "provenance": [],
      "authorship_tag": "ABX9TyPOfzsjQnkg65hIPT6LwwaB",
      "include_colab_link": true
    },
    "kernelspec": {
      "name": "python3",
      "display_name": "Python 3"
    }
  },
  "cells": [
    {
      "cell_type": "markdown",
      "metadata": {
        "id": "view-in-github",
        "colab_type": "text"
      },
      "source": [
        "<a href=\"https://colab.research.google.com/github/jorgeordonez2209/edd_1310_2021/blob/master/29septiembre.ipynb\" target=\"_parent\"><img src=\"https://colab.research.google.com/assets/colab-badge.svg\" alt=\"Open In Colab\"/></a>"
      ]
    },
    {
      "cell_type": "code",
      "metadata": {
        "id": "E7lblz_Nshlo"
      },
      "source": [
        "edad = 10"
      ],
      "execution_count": 2,
      "outputs": []
    },
    {
      "cell_type": "code",
      "metadata": {
        "id": "XrwYueIyvJ_C",
        "outputId": "d9ee6a95-9c2d-444f-bc88-24b3e72473b7",
        "colab": {
          "base_uri": "https://localhost:8080/",
          "height": 51
        }
      },
      "source": [
        "print(edad)\n",
        "colores = ['rojo', 'azul', 'verde', 'violeta']\n",
        "print(colores)"
      ],
      "execution_count": 4,
      "outputs": [
        {
          "output_type": "stream",
          "text": [
            "10\n",
            "['rojo', 'azul', 'verde', 'violeta']\n"
          ],
          "name": "stdout"
        }
      ]
    },
    {
      "cell_type": "code",
      "metadata": {
        "id": "XFDcZhayv0jn",
        "outputId": "fd74d4d2-f586-440e-d5d2-4ca86b7554d2",
        "colab": {
          "base_uri": "https://localhost:8080/",
          "height": 35
        }
      },
      "source": [
        "colores[1]\n",
        "print(colores[3])"
      ],
      "execution_count": 5,
      "outputs": [
        {
          "output_type": "execute_result",
          "data": {
            "application/vnd.google.colaboratory.intrinsic+json": {
              "type": "string"
            },
            "text/plain": [
              "'azul'"
            ]
          },
          "metadata": {
            "tags": []
          },
          "execution_count": 5
        }
      ]
    },
    {
      "cell_type": "code",
      "metadata": {
        "id": "rBJw9wVFxByl",
        "outputId": "5305f4a5-8f65-4698-99ae-51db8f1d1b59",
        "colab": {
          "base_uri": "https://localhost:8080/",
          "height": 68
        }
      },
      "source": [
        "#solo mostrar 'er' de verde???\n",
        "print(colores[2][1:3])\n",
        "nombre = \"Jorge\"\n",
        "print(nombre[0])\n",
        "print(nombre[0:3:1])"
      ],
      "execution_count": 7,
      "outputs": [
        {
          "output_type": "stream",
          "text": [
            "er\n",
            "J\n",
            "Jor\n"
          ],
          "name": "stdout"
        }
      ]
    },
    {
      "cell_type": "markdown",
      "metadata": {
        "id": "UdwrSuO4yLs1"
      },
      "source": [
        "# For en Python 3\n",
        "2 variantes\n",
        "1. j in range(ini, tope, incremento)\n",
        "2. in [iterador]\n"
      ]
    },
    {
      "cell_type": "code",
      "metadata": {
        "id": "zWg66GhXy6_8",
        "outputId": "2143ee36-cc2f-400c-9a06-31c25795ccf9",
        "colab": {
          "base_uri": "https://localhost:8080/",
          "height": 85
        }
      },
      "source": [
        "for j in range(0,4,1):\n",
        "  print(colores[j])"
      ],
      "execution_count": 8,
      "outputs": [
        {
          "output_type": "stream",
          "text": [
            "rojo\n",
            "azul\n",
            "verde\n",
            "violeta\n"
          ],
          "name": "stdout"
        }
      ]
    },
    {
      "cell_type": "code",
      "metadata": {
        "id": "8tb4ptjZz1EW",
        "outputId": "1a00722f-6196-4601-ab86-8c716d7a471d",
        "colab": {
          "base_uri": "https://localhost:8080/",
          "height": 85
        }
      },
      "source": [
        "for color in colores:\n",
        "  print(color)"
      ],
      "execution_count": 10,
      "outputs": [
        {
          "output_type": "stream",
          "text": [
            "rojo\n",
            "azul\n",
            "verde\n",
            "violeta\n"
          ],
          "name": "stdout"
        }
      ]
    },
    {
      "cell_type": "code",
      "metadata": {
        "id": "wXTCGof80h7u",
        "outputId": "3804dff5-fd00-4fb3-8f45-6f371cb2a26b",
        "colab": {
          "base_uri": "https://localhost:8080/",
          "height": 102
        }
      },
      "source": [
        "for j in range(0,len(nombre),1):\n",
        "  print(nombre[j])"
      ],
      "execution_count": 11,
      "outputs": [
        {
          "output_type": "stream",
          "text": [
            "J\n",
            "o\n",
            "r\n",
            "g\n",
            "e\n"
          ],
          "name": "stdout"
        }
      ]
    },
    {
      "cell_type": "code",
      "metadata": {
        "id": "H4DTxJst1WZq",
        "outputId": "210b2d5d-0487-45ef-e44f-53e9c5474d8c",
        "colab": {
          "base_uri": "https://localhost:8080/",
          "height": 102
        }
      },
      "source": [
        "for letra in nombre:\n",
        "  print(letra)"
      ],
      "execution_count": 12,
      "outputs": [
        {
          "output_type": "stream",
          "text": [
            "J\n",
            "o\n",
            "r\n",
            "g\n",
            "e\n"
          ],
          "name": "stdout"
        }
      ]
    },
    {
      "cell_type": "markdown",
      "metadata": {
        "id": "MKyJqR001snW"
      },
      "source": [
        "# Qué es Markdown\n",
        "Markdown es un lenguaje de marcado para documentar codigo. El objetivo es simplificar la escritura de HTML\n",
        "___\n",
        "**negritas**\n",
        "---\n",
        "o\n",
        "***\n",
        "Mas informacion en: [Github Markdown](https://es-la.facebook.com/)\n",
        "___\n",
        "![555](https://upload.wikimedia.org/wikipedia/commons/thumb/5/51/Aragon_Jonhy_corel.jpg/240px-Aragon_Jonhy_corel.jpg)"
      ]
    },
    {
      "cell_type": "code",
      "metadata": {
        "id": "bpDAmIsH4Ktm"
      },
      "source": [
        ""
      ],
      "execution_count": null,
      "outputs": []
    }
  ]
}