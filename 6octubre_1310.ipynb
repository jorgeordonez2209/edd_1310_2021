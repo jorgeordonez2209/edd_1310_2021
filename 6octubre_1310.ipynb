{
  "nbformat": 4,
  "nbformat_minor": 0,
  "metadata": {
    "colab": {
      "name": "6octubre_1310.ipynb",
      "provenance": [],
      "authorship_tag": "ABX9TyPqrraxMQ4EebMtXLHGK2Uh",
      "include_colab_link": true
    },
    "kernelspec": {
      "name": "python3",
      "display_name": "Python 3"
    }
  },
  "cells": [
    {
      "cell_type": "markdown",
      "metadata": {
        "id": "view-in-github",
        "colab_type": "text"
      },
      "source": [
        "<a href=\"https://colab.research.google.com/github/jorgeordonez2209/edd_1310_2021/blob/master/6octubre_1310.ipynb\" target=\"_parent\"><img src=\"https://colab.research.google.com/assets/colab-badge.svg\" alt=\"Open In Colab\"/></a>"
      ]
    },
    {
      "cell_type": "code",
      "metadata": {
        "id": "LWvhkvzMqcFW",
        "outputId": "c485ede1-ec7f-4d54-f114-775910a721b8",
        "colab": {
          "base_uri": "https://localhost:8080/",
          "height": 306
        }
      },
      "source": [
        "# String continuacion\n",
        "\n",
        "numeros_txt = \"   1, 2, 3, 4   , 5    , 35   , 15  , 12\"\n",
        "print (numeros_txt)\n",
        "numeros_txt = numeros_txt.lstrip().split(',')\n",
        "print(numeros_txt)\n",
        "\n",
        "for j in range(len(numeros_txt)):\n",
        "    numeros_txt[j] = int(numeros_txt[j].strip())  \n",
        "\n",
        "print(numeros_txt)\n",
        "\n",
        "# funcion range()\n",
        "# range(incio, stop, incremento)\n",
        "print(range(0,10,2))\n",
        "rango = range(2,10,3)\n",
        "\n",
        "for x in rango:\n",
        "  print(x)\n",
        "\n",
        "rango = range(10)\n",
        "for x in rango:\n",
        "  print(x)"
      ],
      "execution_count": 14,
      "outputs": [
        {
          "output_type": "stream",
          "text": [
            "   1, 2, 3, 4   , 5    , 35   , 15  , 12\n",
            "['1', ' 2', ' 3', ' 4   ', ' 5    ', ' 35   ', ' 15  ', ' 12']\n",
            "[1, 2, 3, 4, 5, 35, 15, 12]\n",
            "range(0, 10, 2)\n",
            "2\n",
            "5\n",
            "8\n",
            "0\n",
            "1\n",
            "2\n",
            "3\n",
            "4\n",
            "5\n",
            "6\n",
            "7\n",
            "8\n",
            "9\n"
          ],
          "name": "stdout"
        }
      ]
    },
    {
      "cell_type": "markdown",
      "metadata": {
        "id": "WLOBVhFTxK-q"
      },
      "source": [
        "# listas\n",
        "- mutables\n",
        "- declaran con [ ]\n",
        "- selector [ int ]\n",
        "- pueden ser de cualquier tipo y mezclado\n",
        "\n",
        "# tuplas\n",
        "- NO mutables\n",
        "- declaran con ( )\n",
        "-selectos [ int ]\n",
        "\n",
        "# diccionarios\n",
        "- son conjuntos de pares llave:valor\n",
        "- son mutables\n",
        "- equivalentes a los objetos JSON de JavaScript\n",
        "\n",
        "# conjuntos\n",
        "- representacion de la teoria de conjuntos"
      ]
    },
    {
      "cell_type": "code",
      "metadata": {
        "id": "BtvsctqCySUB",
        "outputId": "91ae7756-7b20-4878-99d4-92b7f4b36ec4",
        "colab": {
          "base_uri": "https://localhost:8080/",
          "height": 136
        }
      },
      "source": [
        "# Listas (equivalente a 'arreglos en Java')\n",
        "frutas = [\"Pera\" , \"Manzana\" , \"Naranja\" , \"Fresa\" , \"Kiwi\"]\n",
        "print(frutas)\n",
        "cosas = [\"cuaderno\", 2, 1.77, True , False , [\"Rojo\" , \"Azul\" , \"Amarillo\"]]\n",
        "print(cosas)\n",
        "#cambiar algun elemento\n",
        "frutas[2]=\"naranja\" # frutas[2] = frutas[2].capitalize() ----> otra forma\n",
        "print(frutas)\n",
        "# agregar lista ---> '.append' '.insert'\n",
        "frutas.append(\"Melon\")\n",
        "print(frutas)\n",
        "frutas.insert(2,\"Platano\")\n",
        "print(frutas)\n",
        "\n",
        "fecha=[\"06\",\"10\",\"2020\"]\n",
        "print(fecha)\n",
        "fecha_str=\"/\".join(fecha)\n",
        "print(fecha_str)\n",
        "\n"
      ],
      "execution_count": 23,
      "outputs": [
        {
          "output_type": "stream",
          "text": [
            "['Pera', 'Manzana', 'Naranja', 'Fresa', 'Kiwi']\n",
            "['cuaderno', 2, 1.77, True, False, ['Rojo', 'Azul', 'Amarillo']]\n",
            "['Pera', 'Manzana', 'naranja', 'Fresa', 'Kiwi']\n",
            "['Pera', 'Manzana', 'naranja', 'Fresa', 'Kiwi', 'Melon']\n",
            "['Pera', 'Manzana', 'Platano', 'naranja', 'Fresa', 'Kiwi', 'Melon']\n",
            "['06', '10', '2020']\n",
            "06/10/2020\n"
          ],
          "name": "stdout"
        }
      ]
    },
    {
      "cell_type": "code",
      "metadata": {
        "id": "gO_MY6Ao3Spd",
        "outputId": "7be473c3-819a-4482-e18d-072d04a9e539",
        "colab": {
          "base_uri": "https://localhost:8080/",
          "height": 187
        }
      },
      "source": [
        "# eliminar elementos -----> '.pop' '.remove'\n",
        "cosas = [\"cuaderno\", 2, 1.77, True , False , [\"Rojo\" , \"Azul\" , \"Amarillo\"]]\n",
        "print(cosas)\n",
        "cosas.append(\"Goma\")\n",
        "cosas.append(\"Lapiz\")\n",
        "print(cosas)\n",
        "algo = cosas.pop(2)\n",
        "print(cosas)\n",
        "print(algo)\n",
        "\n",
        "algo=cosas.pop(2)\n",
        "print(cosas)\n",
        "print(algo)\n",
        "\n",
        "cosas.remove(False)\n",
        "print(cosas)\n",
        "\n",
        "# vaciar una lista '.clear'\n",
        "cosas.clear()\n",
        "print(cosas)\n",
        "\n",
        "# ordenar (no se puede con elementos mezclados)\n",
        "print(frutas)\n",
        "frutas.sort()\n",
        "print(frutas)\n"
      ],
      "execution_count": 36,
      "outputs": [
        {
          "output_type": "stream",
          "text": [
            "['cuaderno', 2, 1.77, True, False, ['Rojo', 'Azul', 'Amarillo']]\n",
            "['cuaderno', 2, 1.77, True, False, ['Rojo', 'Azul', 'Amarillo'], 'Goma', 'Lapiz']\n",
            "['cuaderno', 2, True, False, ['Rojo', 'Azul', 'Amarillo'], 'Goma', 'Lapiz']\n",
            "1.77\n",
            "['cuaderno', 2, False, ['Rojo', 'Azul', 'Amarillo'], 'Goma', 'Lapiz']\n",
            "True\n",
            "['cuaderno', 2, ['Rojo', 'Azul', 'Amarillo'], 'Goma', 'Lapiz']\n",
            "[]\n",
            "['Fresa', 'Kiwi', 'Manzana', 'Melon', 'Pera', 'Platano', 'naranja']\n",
            "['Fresa', 'Kiwi', 'Manzana', 'Melon', 'Pera', 'Platano', 'naranja']\n"
          ],
          "name": "stdout"
        }
      ]
    },
    {
      "cell_type": "code",
      "metadata": {
        "id": "FkbEWx5-z4pl",
        "outputId": "a4a37017-365f-4a46-ab5e-72907d613a6b",
        "colab": {
          "base_uri": "https://localhost:8080/",
          "height": 136
        }
      },
      "source": [
        "# Slicing\n",
        "cosas = [\"cuaderno\", 2, 1.77, True , False , [\"Rojo\" , \"Azul\" , \"Amarillo\"]]\n",
        "print(cosas[3:5:1])\n",
        "print(cosas)\n",
        "print(cosas [0][3:5:1])\n",
        "\n",
        "numeros=[1, 2, 3, 4, 5, 6, 7, 8, 9, 10, 11, 12, 13, 14, 15]\n",
        "print(numeros[7:12:1])\n",
        "\n",
        "# sustituir rebanadas\n",
        "numeros[7:12:]= [-2,-2]\n",
        "print(numeros)\n",
        "\n",
        "# preguntar por existencia\n",
        "print(-2 in numeros)\n",
        "print(-5 in numeros)"
      ],
      "execution_count": 44,
      "outputs": [
        {
          "output_type": "stream",
          "text": [
            "[True, False]\n",
            "['cuaderno', 2, 1.77, True, False, ['Rojo', 'Azul', 'Amarillo']]\n",
            "de\n",
            "[8, 9, 10, 11, 12]\n",
            "[1, 2, 3, 4, 5, 6, 7, -2, -2, 13, 14, 15]\n",
            "True\n",
            "False\n"
          ],
          "name": "stdout"
        }
      ]
    },
    {
      "cell_type": "markdown",
      "metadata": {
        "id": "0oafq86L-jee"
      },
      "source": [
        "# listas multidimension\n",
        "\n",
        "listas dentro de listas"
      ]
    },
    {
      "cell_type": "code",
      "metadata": {
        "id": "YiNui-bJ-vcl",
        "outputId": "fd7cfc21-ee4f-4756-f987-9833b7e1ba10",
        "colab": {
          "base_uri": "https://localhost:8080/",
          "height": 207
        }
      },
      "source": [
        "computadoras=[\"HP\", \"Mac Book Pro 17\", \"Mate book\", \"Lenovo legion\"]\n",
        "oss=[\"Windows 10\", \"Linux\", \"Android\", \"iOS\"]\n",
        "\n",
        "computo=[computadoras, oss]\n",
        "print(computo[0])\n",
        "print(computo[1])\n",
        "print(computo[0][2])\n",
        "print(computo[0][2][0:5])\n",
        "print(computo[0][3][5::-1])\n",
        "print(computo[0][3][-8::-1])\n",
        "print(\"Linux\" in computo[1])\n",
        "dbms=[ [\"Mysql\",\"Open source\", False],[\"MS SQL Server\",\"de paga\",True] ]\n",
        "computo.append(dbms)\n",
        "print(computo)\n",
        "print(computo[2][0][0])\n",
        "print(computo[2][1][1])"
      ],
      "execution_count": 64,
      "outputs": [
        {
          "output_type": "stream",
          "text": [
            "['HP', 'Mac Book Pro 17', 'Mate book', 'Lenovo legion']\n",
            "['Windows 10', 'Linux', 'Android', 'iOS']\n",
            "Mate book\n",
            "Mate \n",
            "ovoneL\n",
            "ovoneL\n",
            "True\n",
            "[['HP', 'Mac Book Pro 17', 'Mate book', 'Lenovo legion'], ['Windows 10', 'Linux', 'Android', 'iOS'], [['Mysql', 'Open source', False], ['MS SQL Server', 'de paga', True]]]\n",
            "Mysql\n",
            "de paga\n"
          ],
          "name": "stdout"
        }
      ]
    }
  ]
}