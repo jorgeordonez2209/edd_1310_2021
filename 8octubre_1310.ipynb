{
  "nbformat": 4,
  "nbformat_minor": 0,
  "metadata": {
    "colab": {
      "name": "8octubre_1310.ipynb",
      "provenance": [],
      "authorship_tag": "ABX9TyOJnfDDipoh2CEP3cVex2fv",
      "include_colab_link": true
    },
    "kernelspec": {
      "name": "python3",
      "display_name": "Python 3"
    }
  },
  "cells": [
    {
      "cell_type": "markdown",
      "metadata": {
        "id": "view-in-github",
        "colab_type": "text"
      },
      "source": [
        "<a href=\"https://colab.research.google.com/github/jorgeordonez2209/edd_1310_2021/blob/master/8octubre_1310.ipynb\" target=\"_parent\"><img src=\"https://colab.research.google.com/assets/colab-badge.svg\" alt=\"Open In Colab\"/></a>"
      ]
    },
    {
      "cell_type": "code",
      "metadata": {
        "id": "ep_HKwSE-Tl3",
        "outputId": "b2cca544-09d1-43fe-aed0-674d0bf0b11d",
        "colab": {
          "base_uri": "https://localhost:8080/",
          "height": 139
        }
      },
      "source": [
        "# listas multidimension\n",
        "monitores =[[\"Samsung\",\"17.3 \\\"\",1024],[\"BenQ\",\"40\\\"\",2048]]\n",
        "procesadores = [[\"Intel\",\"i7\",3.4],[\"AMD\",\"razzer\",3.3],[\"Intel\",\"i3\",3.1]]\n",
        "memorias = [[\"Kingston\", \"8GB\",\"DDR4\"],[\"Kingston\", \"16GB\",\"DDR3\"],[\"ADATA\", \"32GB\",\"DDR4\"]]\n",
        "\n",
        "componentes = [monitores,procesadores,memorias]\n",
        "print(componentes[1])\n",
        "print(componentes[2][1][1])\n",
        "print(int(componentes[0][1][2])*2)\n",
        "print(componentes[1][1][1][1:4:1])\n",
        "print(componentes[2][2][0].lower()) #ADATA ----> adata\n",
        "componentes[2.append([\"Patito\", \"32 GB\", \"DDR4\"])]\n",
        "print(componentes)"
      ],
      "execution_count": 25,
      "outputs": [
        {
          "output_type": "stream",
          "text": [
            "[['Intel', 'i7', 3.4], ['AMD', 'razzer', 3.3], ['Intel', 'i3', 3.1]]\n",
            "16GB\n",
            "4096\n",
            "azz\n",
            "adata\n",
            "[[['Samsung', '17.3 \"', 1024], ['BenQ', '40\"', 2048]], [['Intel', 'i7', 3.4], ['AMD', 'razzer', 3.3], ['Intel', 'i3', 3.1]], [['Kingston', '8GB', 'DDR4'], ['Kingston', '16GB', 'DDR3'], ['ADATA', '32GB', 'DDR4']]]\n"
          ],
          "name": "stdout"
        }
      ]
    },
    {
      "cell_type": "code",
      "metadata": {
        "id": "8hqYWDToIGjV",
        "outputId": "1897a713-e0c8-4407-f977-5890e7f4abb1",
        "colab": {
          "base_uri": "https://localhost:8080/",
          "height": 187
        }
      },
      "source": [
        "# copiar listas\n",
        "# estender listas\n",
        "\n",
        "frutas = [\"manzana\", \"pera\"]\n",
        "otras_frutas = [\"fresa\", \"mango\"]\n",
        "\n",
        "#frutas.append(otras_frutas)\n",
        "#print(frutas)\n",
        "\n",
        "# + sobre listas\n",
        "## frutas = frutas + otras_frutas\n",
        "## print(frutas)\n",
        "\n",
        "# funcion extend()\n",
        "frutas.extend(otras_frutas)\n",
        "print(frutas)\n",
        "\n",
        "frutas.append(otras_frutas)\n",
        "print(frutas)\n",
        "\n",
        "# copiar listas\n",
        "colores = [\"rojo\",\"azul\",\"amarillo\",\"morado\"]\n",
        "otros_colores = colores \n",
        "print(colores)\n",
        "print(otros_colores)\n",
        "otros_colores.append(\"rosa\")\n",
        "print(colores)\n",
        "print(otros_colores)\n",
        "\n",
        "una_mas = colores.copy()\n",
        "print(una_mas)\n",
        "una_mas.append(\"gris\")\n",
        "print(una_mas)\n",
        "print(colores)\n",
        "\n",
        "# unpacking de listas\n",
        "alumno=[\"Jorge\", \"Ordoñez\",\"Tuxpan\", 20,\"ICO\",9.0] #mismo numero de elementos arriba y abajo\n",
        "#nombre=alumno[0]\n",
        "#paterno=alumno[1] #etc.\n",
        "\n",
        "nombre,paterno,materno,edad,carrera,promedio = alumno\n",
        "print(f\"Alumno:{nombre} carrera:{carrera} promedio={promedio}\")\n"
      ],
      "execution_count": 27,
      "outputs": [
        {
          "output_type": "stream",
          "text": [
            "['manzana', 'pera', 'fresa', 'mango']\n",
            "['manzana', 'pera', 'fresa', 'mango', ['fresa', 'mango']]\n",
            "['rojo', 'azul', 'amarillo', 'morado']\n",
            "['rojo', 'azul', 'amarillo', 'morado']\n",
            "['rojo', 'azul', 'amarillo', 'morado', 'rosa']\n",
            "['rojo', 'azul', 'amarillo', 'morado', 'rosa']\n",
            "['rojo', 'azul', 'amarillo', 'morado', 'rosa']\n",
            "['rojo', 'azul', 'amarillo', 'morado', 'rosa', 'gris']\n",
            "['rojo', 'azul', 'amarillo', 'morado', 'rosa']\n",
            "Alumno:Jorge carrera:ICO promedio=9.0\n"
          ],
          "name": "stdout"
        }
      ]
    },
    {
      "cell_type": "markdown",
      "metadata": {
        "id": "62d24spNR2bz"
      },
      "source": [
        "# Tuplas\n",
        "- se declaran con ( )\n",
        "- selector con [ ]\n",
        "- NO son mutables"
      ]
    },
    {
      "cell_type": "code",
      "metadata": {
        "id": "RQYvfevTSL1A",
        "outputId": "923541ca-9976-4c5e-b901-474bef686ee1",
        "colab": {
          "base_uri": "https://localhost:8080/",
          "height": 68
        }
      },
      "source": [
        "precios = (99.9, 49.9,12.45,22.5,69.69,17.9)\n",
        "print(precios[2])\n",
        "print(precios)\n",
        "print(precios[2:4])\n"
      ],
      "execution_count": 30,
      "outputs": [
        {
          "output_type": "stream",
          "text": [
            "12.45\n",
            "(99.9, 49.9, 12.45, 22.5, 69.69, 17.9)\n",
            "(12.45, 22.5)\n"
          ],
          "name": "stdout"
        }
      ]
    },
    {
      "cell_type": "markdown",
      "metadata": {
        "id": "hqZaq4XuTjMQ"
      },
      "source": [
        "# Diccionarios\n",
        "- se declara con { }\n",
        "- si son mutables\n",
        "- conjunto de pares llave: valor\n",
        "- equivalente a los Objetos JSON de JavaScript\n",
        "- selector [ str ]"
      ]
    },
    {
      "cell_type": "code",
      "metadata": {
        "id": "MSOZ-QFUT7cd",
        "outputId": "56a68d3f-dcb1-4c31-c91e-f897c9dd8490",
        "colab": {
          "base_uri": "https://localhost:8080/",
          "height": 139
        }
      },
      "source": [
        "cliente = { }\n",
        "print(cliente)\n",
        "alumno = {     \"num_cta\"  :315199266  }\n",
        "print(alumno)\n",
        "\n",
        "alumno={ \n",
        "        \"num_cta\" :315199266 , \n",
        "        \"carrera\" : \"ICO\", \n",
        "        \"promedio\" :9.0,\n",
        "        \"materias\" :[\"EDD\",\"Ecuaciones\",\"Emprendimiento\",\"Laboratorio\"],\n",
        "        \"direccion\" : {\n",
        "                        \"calle\":\"rancho seco\",\n",
        "                        \"numero\": 23,\n",
        "                        \"delegacion\" :\"Neza\",\n",
        "                        \"estado\":{\n",
        "                                  \"id\": 15,\n",
        "                                  \"nombre\":\"Estado de Mexico\",\n",
        "                                  \"nombre_corto\":\"EdoMex\",\n",
        "                                  },      \n",
        "                       \"CP\":57070      \n",
        "                      }\n",
        "        }\n",
        "print(alumno)\n",
        "print(alumno[\"materias\"])\n",
        "print(alumno[\"promedio\"])\n",
        "print(alumno[\"direccion\"][\"estado\"][\"nombre_corto\"])\n"
      ],
      "execution_count": 39,
      "outputs": [
        {
          "output_type": "stream",
          "text": [
            "{}\n",
            "{'num_cta': 315199266}\n",
            "{'num_cta': 315199266, 'carrera': 'ICO', 'promedio': 9.0, 'materias': ['EDD', 'Ecuaciones', 'Emprendimiento', 'Laboratorio'], 'direccion': {'calle': 'rancho seco', 'numero': 23, 'delegacion': 'Neza', 'estado': {'id': 15, 'nombre': 'Estado de Mexico', 'nombre_corto': 'EdoMex'}, 'CP': 57070}}\n",
            "['EDD', 'Ecuaciones', 'Emprendimiento', 'Laboratorio']\n",
            "9.0\n",
            "EdoMex\n"
          ],
          "name": "stdout"
        }
      ]
    }
  ]
}