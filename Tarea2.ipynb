{
  "nbformat": 4,
  "nbformat_minor": 0,
  "metadata": {
    "colab": {
      "name": "Untitled1.ipynb",
      "provenance": [],
      "authorship_tag": "ABX9TyNzMo82+ZYosP7re6jpeU8y",
      "include_colab_link": true
    },
    "kernelspec": {
      "display_name": "Python 3",
      "name": "python3"
    }
  },
  "cells": [
    {
      "cell_type": "markdown",
      "metadata": {
        "id": "view-in-github",
        "colab_type": "text"
      },
      "source": [
        "<a href=\"https://colab.research.google.com/github/jorgeordonez2209/edd_1310_2021/blob/master/Tarea2.ipynb\" target=\"_parent\"><img src=\"https://colab.research.google.com/assets/colab-badge.svg\" alt=\"Open In Colab\"/></a>"
      ]
    },
    {
      "cell_type": "markdown",
      "metadata": {
        "id": "lj23qRVDSR9n"
      },
      "source": [
        "# TAREA 2\n",
        "\n"
      ]
    },
    {
      "cell_type": "code",
      "metadata": {
        "id": "S0EWZ5GsYR7m",
        "outputId": "df0729c2-a40f-410c-8c57-07ef6c2e6fb6",
        "colab": {
          "base_uri": "https://localhost:8080/",
          "height": 221
        }
      },
      "source": [
        "archivo= open('Datos.txt','rt')\n",
        "suma_total = 0\n",
        "for linea in archivo.readlines()[:20:2]:\n",
        "    suma_renglon = 0\n",
        "    for trunc in linea.strip().split(\",\"):\n",
        "      suma_renglon += int(trunc)\n",
        "    suma_total += suma_renglon\n",
        "    print(suma_renglon)\n",
        "\"\"\"    \n",
        "for x in range(1,20,2):\n",
        "  print(f\"La suma del renglon {x} es: \")\n",
        "  print(suma_renglon)\n",
        "\"\"\" \n",
        "print(\"La suma de todos los numeros es: \")\n",
        "print(suma_total)\n",
        "archivo.close()\n",
        "   \n",
        "      \n",
        " \n",
        "        "
      ],
      "execution_count": 91,
      "outputs": [
        {
          "output_type": "stream",
          "text": [
            "406\n",
            "367\n",
            "814\n",
            "391\n",
            "786\n",
            "513\n",
            "745\n",
            "585\n",
            "154\n",
            "220\n",
            "La suma de todos los numeros es: \n",
            "4981\n"
          ],
          "name": "stdout"
        }
      ]
    }
  ]
}