{
  "nbformat": 4,
  "nbformat_minor": 0,
  "metadata": {
    "colab": {
      "name": "Tarea3.ipynb",
      "provenance": [],
      "authorship_tag": "ABX9TyN8A+CMY1OTVbpvcCsoS4w7",
      "include_colab_link": true
    },
    "kernelspec": {
      "name": "python3",
      "display_name": "Python 3"
    }
  },
  "cells": [
    {
      "cell_type": "markdown",
      "metadata": {
        "id": "view-in-github",
        "colab_type": "text"
      },
      "source": [
        "<a href=\"https://colab.research.google.com/github/jorgeordonez2209/edd_1310_2021/blob/master/Tarea3.ipynb\" target=\"_parent\"><img src=\"https://colab.research.google.com/assets/colab-badge.svg\" alt=\"Open In Colab\"/></a>"
      ]
    },
    {
      "cell_type": "markdown",
      "metadata": {
        "id": "Kki-awz9ifiT"
      },
      "source": [
        "# TAREA 3"
      ]
    },
    {
      "cell_type": "code",
      "metadata": {
        "id": "APV9Ub1rZnND",
        "outputId": "502ffc34-06c2-4e8f-f9a6-afb352e1d7ac",
        "colab": {
          "base_uri": "https://localhost:8080/",
          "height": 68
        }
      },
      "source": [
        "class Persona:\n",
        "  def __init__(self, n, e, a):\n",
        "    self.__nombre=n\n",
        "    self.__edad=e\n",
        "    self.__estatura=a\n",
        "\n",
        "  def to_string(self):\n",
        "    return \"Nombre: \" + self.__nombre + \"  Edad: \" + self.__edad +\" años \" +\" Estatura: \" + self.__estatura +\" metros\"\n",
        "\n",
        "  def dormir(self):\n",
        "    return \"Estoy durmiendo ZZzzzz\"\n",
        "  \n",
        "  def comer(self):\n",
        "    return \"Tengo hambre, quiero más comida\"\n",
        "\n",
        "yo = Persona(\"Jorge\",\"21\",\"177\")\n",
        "print(yo.to_string())\n",
        "print(yo.dormir())\n",
        "print(yo.comer())"
      ],
      "execution_count": 9,
      "outputs": [
        {
          "output_type": "stream",
          "text": [
            "Nombre: Jorge  Edad: 21 años  Estatura: 177 metros\n",
            "Estoy durmiendo ZZzzzz\n",
            "Tengo hambre, quiero más comida\n"
          ],
          "name": "stdout"
        }
      ]
    },
    {
      "cell_type": "code",
      "metadata": {
        "id": "q4WrWpBYewqY",
        "outputId": "df15b61f-8fc5-4835-f71e-2d37baa7843f",
        "colab": {
          "base_uri": "https://localhost:8080/",
          "height": 68
        }
      },
      "source": [
        "class Celular:\n",
        "  def __init__(self, c, m, d):\n",
        "    self.__marca=c\n",
        "    self.__modelo=m\n",
        "    self.__memoria=d\n",
        "\n",
        "  def to_string(self):\n",
        "    return \"Marca: \" + self.__marca + \"  Modelo: \" + self.__modelo + \"  Memoria: \" + self.__memoria + \"GB\"\n",
        "\n",
        "  def llamar(self):\n",
        "    return \"Llamar a mi compa para irnos al shine\"\n",
        "\n",
        "  def alarma(self):\n",
        "    return \"Alarma a las 7:00 am\"\n",
        "\n",
        "my_phone=Celular(\"realme\",\"realme 6 pro\",\"128\")\n",
        "print(my_phone.to_string())\n",
        "print(my_phone.llamar())\n",
        "print(my_phone.alarma())\n"
      ],
      "execution_count": 13,
      "outputs": [
        {
          "output_type": "stream",
          "text": [
            "Marca: realme  Modelo: realme 6 pro  Memoria: 128GB\n",
            "Llamar a mi compa para irnos al shine\n",
            "Alarma a las 7:00 am\n"
          ],
          "name": "stdout"
        }
      ]
    }
  ]
}